{
 "cells": [
  {
   "cell_type": "markdown",
   "id": "dominant-diversity",
   "metadata": {},
   "source": [
    "# Learning Neural Nets Pt 2\n",
    "\n",
    "I had a heck of a time getting jupyter to work well with venv. \n",
    "\n",
    "Here's how I did it:\n",
    "\n",
    "1. Create virtual environment with the python version you want: `/path/to/python/python -m venv <directory>`\n",
    "2. Activate the venv: `venv\\Scripts\\activate`\n",
    "3. Install ipykernel: `pip install ipykernel`\n",
    "4. Create a new kernel: `python -m ipykernel install --user --name=nn2-1`\n",
    "5. Run jupyter: `jupyter-lab`\n",
    "\n",
    "And that's it. I have a few different version of python on my machine. The venv should be 3.8.6 though. Let's confirm."
   ]
  },
  {
   "cell_type": "code",
   "execution_count": 1,
   "id": "accessory-resident",
   "metadata": {},
   "outputs": [
    {
     "data": {
      "text/plain": [
       "'3.8.6 (tags/v3.8.6:db45529, Sep 23 2020, 15:52:53) [MSC v.1927 64 bit (AMD64)]'"
      ]
     },
     "execution_count": 1,
     "metadata": {},
     "output_type": "execute_result"
    }
   ],
   "source": [
    "import sys\n",
    "sys.version"
   ]
  },
  {
   "cell_type": "markdown",
   "id": "pacific-kennedy",
   "metadata": {},
   "source": [
    "Beautiful.\n",
    "\n",
    "Let's get started."
   ]
  },
  {
   "cell_type": "markdown",
   "id": "quarterly-observer",
   "metadata": {},
   "source": [
    "## Model Defining"
   ]
  },
  {
   "cell_type": "code",
   "execution_count": 2,
   "id": "neither-bonus",
   "metadata": {},
   "outputs": [],
   "source": [
    "from numpy import loadtxt\n",
    "from tensorflow.keras import Sequential\n",
    "from tensorflow.keras.layers import Dense\n"
   ]
  },
  {
   "cell_type": "code",
   "execution_count": 3,
   "id": "hourly-grave",
   "metadata": {},
   "outputs": [],
   "source": [
    "dataset = loadtxt('pima-indians-diabetes.data.csv', delimiter=',')\n",
    "x_variables = dataset[:, 0:8]\n",
    "y_variables = dataset[:, 8]"
   ]
  },
  {
   "cell_type": "markdown",
   "id": "expired-birmingham",
   "metadata": {},
   "source": [
    "Now let's use some training data."
   ]
  },
  {
   "cell_type": "code",
   "execution_count": 4,
   "id": "decimal-venice",
   "metadata": {},
   "outputs": [],
   "source": [
    "from sklearn.model_selection import train_test_split"
   ]
  },
  {
   "cell_type": "markdown",
   "id": "cultural-motion",
   "metadata": {},
   "source": [
    "train_test_split will create 4 sets of data. The X training and test. And the Y training and test."
   ]
  },
  {
   "cell_type": "code",
   "execution_count": 5,
   "id": "structural-forty",
   "metadata": {},
   "outputs": [],
   "source": [
    "x_train, x_test, y_train, y_test = train_test_split(x_variables, y_variables, test_size=0.4)"
   ]
  },
  {
   "cell_type": "code",
   "execution_count": 6,
   "id": "experimental-pregnancy",
   "metadata": {},
   "outputs": [],
   "source": [
    "model = Sequential()\n",
    "# first hidden layer\n",
    "# input_dim = variables for data\n",
    "model.add(Dense(12, input_dim=8, activation='relu'))\n",
    "# second hidden layer\n",
    "model.add(Dense(8, activation='relu'))\n",
    "# output layer\n",
    "model.add(Dense(1, activation='sigmoid'))\n",
    "\n",
    "model.compile(loss='binary_crossentropy', optimizer='adam', metrics=['accuracy'])"
   ]
  },
  {
   "cell_type": "markdown",
   "id": "behind-board",
   "metadata": {},
   "source": [
    "## Fitting the Data"
   ]
  },
  {
   "cell_type": "code",
   "execution_count": 7,
   "id": "lonely-likelihood",
   "metadata": {},
   "outputs": [
    {
     "data": {
      "text/plain": [
       "<tensorflow.python.keras.callbacks.History at 0x21c0576c490>"
      ]
     },
     "execution_count": 7,
     "metadata": {},
     "output_type": "execute_result"
    }
   ],
   "source": [
    "model.fit(x_train, y_train, epochs=150, batch_size=10, verbose=0)"
   ]
  },
  {
   "cell_type": "markdown",
   "id": "underlying-wisconsin",
   "metadata": {},
   "source": [
    "## Evaluating the Model"
   ]
  },
  {
   "cell_type": "code",
   "execution_count": 8,
   "id": "based-phase",
   "metadata": {},
   "outputs": [
    {
     "name": "stdout",
     "output_type": "stream",
     "text": [
      "15/15 [==============================] - 0s 1ms/step - loss: 0.5436 - accuracy: 0.7261\n",
      "10/10 [==============================] - 0s 893us/step - loss: 0.5848 - accuracy: 0.7013\n",
      "Training accuracy: 0.7260869741439819\n",
      "Test accuracy: 0.701298713684082\n"
     ]
    }
   ],
   "source": [
    "_, accuracy_training = model.evaluate(x_train, y_train)\n",
    "_, accuracy_test = model.evaluate(x_test, y_test)\n",
    "\n",
    "print(f'Training accuracy: {accuracy_training}')\n",
    "print(f'Test accuracy: {accuracy_test}')"
   ]
  },
  {
   "cell_type": "markdown",
   "id": "communist-steps",
   "metadata": {},
   "source": [
    "## Saving a model\n",
    "\n",
    "Here is how you save a model:"
   ]
  },
  {
   "cell_type": "code",
   "execution_count": 9,
   "id": "attached-strike",
   "metadata": {},
   "outputs": [
    {
     "name": "stdout",
     "output_type": "stream",
     "text": [
      "INFO:tensorflow:Assets written to: .\\assets\n"
     ]
    }
   ],
   "source": [
    "model.save('.')"
   ]
  },
  {
   "cell_type": "markdown",
   "id": "angry-thanks",
   "metadata": {},
   "source": [
    "## Visualizing a model\n",
    "\n",
    "Here is how you visualize a model:"
   ]
  },
  {
   "cell_type": "code",
   "execution_count": 12,
   "id": "selected-teacher",
   "metadata": {},
   "outputs": [
    {
     "name": "stdout",
     "output_type": "stream",
     "text": [
      "Model: \"sequential\"\n",
      "_________________________________________________________________\n",
      "Layer (type)                 Output Shape              Param #   \n",
      "=================================================================\n",
      "dense (Dense)                (None, 12)                108       \n",
      "_________________________________________________________________\n",
      "dense_1 (Dense)              (None, 8)                 104       \n",
      "_________________________________________________________________\n",
      "dense_2 (Dense)              (None, 1)                 9         \n",
      "=================================================================\n",
      "Total params: 221\n",
      "Trainable params: 221\n",
      "Non-trainable params: 0\n",
      "_________________________________________________________________\n",
      "None\n"
     ]
    }
   ],
   "source": [
    "print(model.summary())"
   ]
  },
  {
   "cell_type": "markdown",
   "id": "isolated-tanzania",
   "metadata": {},
   "source": [
    "## What's Next\n",
    "\n",
    "Next I want to try my hand at a beginner Kaggle challenge.\n",
    "\n",
    "I want to complete and submit this challenge: http://kaggle.com/c/titanic\n",
    "\n",
    "And at least start this one: https://www.kaggle.com/c/house-prices-advanced-regression-techniques\n",
    "\n",
    "I want to do these in the future:\n",
    "\n",
    "* https://www.kaggle.com/c/digit-recognizer\n",
    "* https://www.kaggle.com/c/facial-keypoints-detection\n",
    "* https://www.kaggle.com/c/word2vec-nlp-tutorial\n"
   ]
  }
 ],
 "metadata": {
  "kernelspec": {
   "display_name": "nn2-1",
   "language": "python",
   "name": "nn2-1"
  },
  "language_info": {
   "codemirror_mode": {
    "name": "ipython",
    "version": 3
   },
   "file_extension": ".py",
   "mimetype": "text/x-python",
   "name": "python",
   "nbconvert_exporter": "python",
   "pygments_lexer": "ipython3",
   "version": "3.8.6"
  }
 },
 "nbformat": 4,
 "nbformat_minor": 5
}
