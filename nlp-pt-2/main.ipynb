{
 "cells": [
  {
   "cell_type": "markdown",
   "id": "physical-morocco",
   "metadata": {},
   "source": [
    "# Using the Pipeline Class from Scikit learn"
   ]
  },
  {
   "cell_type": "code",
   "execution_count": 59,
   "id": "cooked-water",
   "metadata": {},
   "outputs": [],
   "source": [
    "from sklearn.datasets import fetch_20newsgroups  # import packages which help us download dataset and load intp python\n",
    "from sklearn.pipeline import Pipeline # The class itself\n",
    "from sklearn.feature_extraction.text import CountVectorizer\n",
    "from sklearn.feature_extraction.text import TfidfTransformer # a numerical statistic that reflects word importance\n",
    "from sklearn.naive_bayes import MultinomialNB\n",
    "import nltk\n",
    "from nltk.stem import WordNetLemmatizer\n",
    "\n",
    "import numpy as np\n",
    "import pandas as pd"
   ]
  },
  {
   "cell_type": "markdown",
   "id": "bottom-tomato",
   "metadata": {},
   "source": [
    "## Exporatory Data Analysis"
   ]
  },
  {
   "cell_type": "code",
   "execution_count": 25,
   "id": "protective-kruger",
   "metadata": {},
   "outputs": [],
   "source": [
    "# get the training and test datasets\n",
    "train = fetch_20newsgroups(subset='train', shuffle=True, download_if_missing=True)  \n",
    "test = fetch_20newsgroups(subset='test', shuffle=True, download_if_missing=True)\n",
    "\n",
    "datasets = [train, test]"
   ]
  },
  {
   "cell_type": "code",
   "execution_count": 60,
   "id": "simple-clearing",
   "metadata": {},
   "outputs": [],
   "source": [
    "# Count Vectorizer that Lemmatizes words too\n",
    "class LemmaCountVectorizer(CountVectorizer):\n",
    "    def build_analyzer(self):\n",
    "        lemm = WordNetLemmatizer()\n",
    "        analyzer = super(LemmaCountVectorizer, self).build_analyzer()\n",
    "        return lambda doc: (lemm.lemmatize(w) for w in analyzer(doc))"
   ]
  },
  {
   "cell_type": "code",
   "execution_count": 45,
   "id": "smart-vitamin",
   "metadata": {},
   "outputs": [],
   "source": [
    "# handy function to convert the datasets to pandas dataframes\n",
    "def convert_to_pd(dataset, name): \n",
    "    df = pd.DataFrame()\n",
    "    df[name] = pd.Series(dataset.data)\n",
    "    df['target'] = pd.Series(dataset.target)\n",
    "    return df"
   ]
  },
  {
   "cell_type": "code",
   "execution_count": 46,
   "id": "prospective-advantage",
   "metadata": {},
   "outputs": [],
   "source": [
    "pd_datasets = [convert_to_pd(dataset, \"message\") for dataset in datasets]"
   ]
  },
  {
   "cell_type": "code",
   "execution_count": 47,
   "id": "isolated-congo",
   "metadata": {},
   "outputs": [
    {
     "data": {
      "text/html": [
       "<div>\n",
       "<style scoped>\n",
       "    .dataframe tbody tr th:only-of-type {\n",
       "        vertical-align: middle;\n",
       "    }\n",
       "\n",
       "    .dataframe tbody tr th {\n",
       "        vertical-align: top;\n",
       "    }\n",
       "\n",
       "    .dataframe thead th {\n",
       "        text-align: right;\n",
       "    }\n",
       "</style>\n",
       "<table border=\"1\" class=\"dataframe\">\n",
       "  <thead>\n",
       "    <tr style=\"text-align: right;\">\n",
       "      <th></th>\n",
       "      <th>message</th>\n",
       "      <th>target</th>\n",
       "    </tr>\n",
       "  </thead>\n",
       "  <tbody>\n",
       "    <tr>\n",
       "      <th>0</th>\n",
       "      <td>From: lerxst@wam.umd.edu (where's my thing)\\nS...</td>\n",
       "      <td>7</td>\n",
       "    </tr>\n",
       "    <tr>\n",
       "      <th>1</th>\n",
       "      <td>From: guykuo@carson.u.washington.edu (Guy Kuo)...</td>\n",
       "      <td>4</td>\n",
       "    </tr>\n",
       "    <tr>\n",
       "      <th>2</th>\n",
       "      <td>From: twillis@ec.ecn.purdue.edu (Thomas E Will...</td>\n",
       "      <td>4</td>\n",
       "    </tr>\n",
       "    <tr>\n",
       "      <th>3</th>\n",
       "      <td>From: jgreen@amber (Joe Green)\\nSubject: Re: W...</td>\n",
       "      <td>1</td>\n",
       "    </tr>\n",
       "    <tr>\n",
       "      <th>4</th>\n",
       "      <td>From: jcm@head-cfa.harvard.edu (Jonathan McDow...</td>\n",
       "      <td>14</td>\n",
       "    </tr>\n",
       "  </tbody>\n",
       "</table>\n",
       "</div>"
      ],
      "text/plain": [
       "                                             message  target\n",
       "0  From: lerxst@wam.umd.edu (where's my thing)\\nS...       7\n",
       "1  From: guykuo@carson.u.washington.edu (Guy Kuo)...       4\n",
       "2  From: twillis@ec.ecn.purdue.edu (Thomas E Will...       4\n",
       "3  From: jgreen@amber (Joe Green)\\nSubject: Re: W...       1\n",
       "4  From: jcm@head-cfa.harvard.edu (Jonathan McDow...      14"
      ]
     },
     "execution_count": 47,
     "metadata": {},
     "output_type": "execute_result"
    }
   ],
   "source": [
    "pd_datasets[0].head()"
   ]
  },
  {
   "cell_type": "code",
   "execution_count": 48,
   "id": "surprised-missouri",
   "metadata": {},
   "outputs": [
    {
     "data": {
      "text/html": [
       "<div>\n",
       "<style scoped>\n",
       "    .dataframe tbody tr th:only-of-type {\n",
       "        vertical-align: middle;\n",
       "    }\n",
       "\n",
       "    .dataframe tbody tr th {\n",
       "        vertical-align: top;\n",
       "    }\n",
       "\n",
       "    .dataframe thead th {\n",
       "        text-align: right;\n",
       "    }\n",
       "</style>\n",
       "<table border=\"1\" class=\"dataframe\">\n",
       "  <thead>\n",
       "    <tr style=\"text-align: right;\">\n",
       "      <th></th>\n",
       "      <th>message</th>\n",
       "      <th>target</th>\n",
       "    </tr>\n",
       "  </thead>\n",
       "  <tbody>\n",
       "    <tr>\n",
       "      <th>0</th>\n",
       "      <td>From: v064mb9k@ubvmsd.cc.buffalo.edu (NEIL B. ...</td>\n",
       "      <td>7</td>\n",
       "    </tr>\n",
       "    <tr>\n",
       "      <th>1</th>\n",
       "      <td>From: Rick Miller &lt;rick@ee.uwm.edu&gt;\\nSubject: ...</td>\n",
       "      <td>5</td>\n",
       "    </tr>\n",
       "    <tr>\n",
       "      <th>2</th>\n",
       "      <td>From: mathew &lt;mathew@mantis.co.uk&gt;\\nSubject: R...</td>\n",
       "      <td>0</td>\n",
       "    </tr>\n",
       "    <tr>\n",
       "      <th>3</th>\n",
       "      <td>From: bakken@cs.arizona.edu (Dave Bakken)\\nSub...</td>\n",
       "      <td>17</td>\n",
       "    </tr>\n",
       "    <tr>\n",
       "      <th>4</th>\n",
       "      <td>From: livesey@solntze.wpd.sgi.com (Jon Livesey...</td>\n",
       "      <td>19</td>\n",
       "    </tr>\n",
       "  </tbody>\n",
       "</table>\n",
       "</div>"
      ],
      "text/plain": [
       "                                             message  target\n",
       "0  From: v064mb9k@ubvmsd.cc.buffalo.edu (NEIL B. ...       7\n",
       "1  From: Rick Miller <rick@ee.uwm.edu>\\nSubject: ...       5\n",
       "2  From: mathew <mathew@mantis.co.uk>\\nSubject: R...       0\n",
       "3  From: bakken@cs.arizona.edu (Dave Bakken)\\nSub...      17\n",
       "4  From: livesey@solntze.wpd.sgi.com (Jon Livesey...      19"
      ]
     },
     "execution_count": 48,
     "metadata": {},
     "output_type": "execute_result"
    }
   ],
   "source": [
    "pd_datasets[1].head()"
   ]
  },
  {
   "cell_type": "markdown",
   "id": "backed-medicine",
   "metadata": {},
   "source": [
    "## Model Defining  "
   ]
  },
  {
   "cell_type": "code",
   "execution_count": 50,
   "id": "sticky-expert",
   "metadata": {},
   "outputs": [],
   "source": [
    "stopwords = nltk.corpus.stopwords.words('english')"
   ]
  },
  {
   "cell_type": "code",
   "execution_count": 61,
   "id": "distant-theta",
   "metadata": {},
   "outputs": [],
   "source": [
    "nb_pipeline = Pipeline([('vect', LemmaCountVectorizer(stop_words=stopwords)), ('tfidf', TfidfTransformer()), ('clf', MultinomialNB())])"
   ]
  },
  {
   "cell_type": "markdown",
   "id": "junior-constitutional",
   "metadata": {},
   "source": [
    "## Model Compiling"
   ]
  },
  {
   "cell_type": "code",
   "execution_count": 62,
   "id": "unusual-found",
   "metadata": {},
   "outputs": [],
   "source": [
    "model = nb_pipeline.fit(pd_datasets[0][\"message\"], pd_datasets[0][\"target\"])"
   ]
  },
  {
   "cell_type": "markdown",
   "id": "practical-jerusalem",
   "metadata": {},
   "source": [
    "## Getting a Prediction"
   ]
  },
  {
   "cell_type": "code",
   "execution_count": 63,
   "id": "israeli-cloud",
   "metadata": {},
   "outputs": [],
   "source": [
    "prediction = model.predict(pd_datasets[1][\"message\"])"
   ]
  },
  {
   "cell_type": "code",
   "execution_count": 64,
   "id": "informed-pizza",
   "metadata": {},
   "outputs": [],
   "source": [
    "accuracy = np.mean(prediction == pd_datasets[1][\"target\"]) * 100"
   ]
  },
  {
   "cell_type": "code",
   "execution_count": 65,
   "id": "floral-still",
   "metadata": {},
   "outputs": [
    {
     "data": {
      "text/plain": [
       "81.2931492299522"
      ]
     },
     "execution_count": 65,
     "metadata": {},
     "output_type": "execute_result"
    }
   ],
   "source": [
    "accuracy"
   ]
  },
  {
   "cell_type": "code",
   "execution_count": null,
   "id": "limiting-asset",
   "metadata": {},
   "outputs": [],
   "source": []
  }
 ],
 "metadata": {
  "kernelspec": {
   "display_name": "nn-2",
   "language": "python",
   "name": "nn-2"
  },
  "language_info": {
   "codemirror_mode": {
    "name": "ipython",
    "version": 3
   },
   "file_extension": ".py",
   "mimetype": "text/x-python",
   "name": "python",
   "nbconvert_exporter": "python",
   "pygments_lexer": "ipython3",
   "version": "3.8.6"
  }
 },
 "nbformat": 4,
 "nbformat_minor": 5
}
